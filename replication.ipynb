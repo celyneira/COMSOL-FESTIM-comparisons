{
 "cells": [
  {
   "cell_type": "code",
   "execution_count": 2,
   "metadata": {},
   "outputs": [],
   "source": [
    "#imports\n",
    "\n",
    "import numpy as np\n",
    "import sympy as sp\n",
    "import matplotlib.pyplot as plt\n",
    "import festim as F\n",
    "from festim import t\n",
    "from fenics import IntervalMesh, MeshFunction, CompiledSubDomain\n",
    "from scipy.constants import Avogadro"
   ]
  },
  {
   "cell_type": "code",
   "execution_count": 3,
   "metadata": {},
   "outputs": [],
   "source": [
    "#constants\n",
    "T1, T2, T3 = 600 + 273.16, 500 + 273.16, 300 + 273.16\n",
    "w_density = 6.3e28  # atomic density of tungsten\n",
    "cucrzr_density = 9.2e28  # atom/m3\n",
    "\n",
    "mean_depth_section_1 = 10e-9\n",
    "reflection_ratio_section_1 = 0.6\n",
    "tungsten_thickness = 0.003\n",
    "cucrzr_thickness = 0.011\n",
    "tol = 1e-14\n",
    "\n",
    "folder = \"replication\"\n"
   ]
  },
  {
   "cell_type": "code",
   "execution_count": 4,
   "metadata": {},
   "outputs": [],
   "source": [
    "\n",
    "tungsten = F.Material(\n",
    "        id=1, D_0=1.5e-7, E_D=0.265, S_0=2.7e24, E_S=1.14,\n",
    "        borders=[0, 3e-3], thermal_cond=173\n",
    "            )"
   ]
  },
  {
   "cell_type": "code",
   "execution_count": 5,
   "metadata": {},
   "outputs": [],
   "source": [
    "from fenics import IntervalMesh, MeshFunction, CompiledSubDomain\n",
    "\n",
    "def simulation_with_interface(flux, simulation_time, thickness_1, thickness_2, n, T1, T2, T3, mean_depth, folder, rel_tol, abs_tol, vary, percent):\n",
    "    tungsten = F.Material(\n",
    "        id=1, D_0=1.5e-7, E_D=0.265, S_0=2.7e24, E_S=1.14,\n",
    "        borders=[0, thickness_1], thermal_cond=173\n",
    "            )\n",
    "\n",
    "    cucrzr = cucrzr = F.Material(\n",
    "        id=2, D_0=4.8e-7, E_D=0.42, S_0=4.27e23, E_S=0.39,\n",
    "        borders=[thickness_1, thickness_2 + thickness_1], thermal_cond=320\n",
    "        )\n",
    "\n",
    "    tungsten_trap_1 = F.Trap(\n",
    "        k_0 = 1.5e-7/((1.1e-10)**2 * 6 * w_density),\n",
    "        E_k= 0.265, \n",
    "        p_0=1.2397e13,\n",
    "        E_p=0.83,\n",
    "        density = sp.Piecewise((6.3e28*0.00118, F.x < thickness_1), (0,True)),\n",
    "        materials = [tungsten],\n",
    "        id= 1\n",
    "        )\n",
    "\n",
    "    tungsten_trap_2 = F.Trap(\n",
    "        k_0 = 1.5e-7/((1.1e-10)**2 * 6 * w_density),\n",
    "        E_k= 0.265, \n",
    "        p_0=1.2397e13,    E_p=0.97,\n",
    "        density = sp.Piecewise((6.3e28*0.000722, F.x < thickness_1),(0,True)),\n",
    "        materials = [tungsten],\n",
    "        id = 2\n",
    "        )\n",
    "\n",
    "    cucrzr_trap = F.Trap(\n",
    "            k_0=4.8e-7 / ((2.556e-10)**2 * 1 * cucrzr_density),\n",
    "            E_k=0.42,\n",
    "            p_0=7.3472e12, \n",
    "            E_p=0.53+0.42,\n",
    "            density= sp.Piecewise((3.7e24,F.x > thickness_1),(0,True)),\n",
    "            materials=[cucrzr],\n",
    "            id =4\n",
    "            )\n",
    "    if vary:\n",
    "        induced_trap = F.NeutronInducedTrap(\n",
    "                k_0 = 1.5e-7/((1.1e-10**2) * 6 * w_density),\n",
    "                E_k= 0.265, \n",
    "                 p_0=1.2397e13,\n",
    "                 E_p = 1.51,\n",
    "                 phi = 6.3e-8,\n",
    "                 K = 3.858e27,\n",
    "                 A_0 = 0,\n",
    "                 E_A = 1,\n",
    "                 materials = [tungsten],\n",
    "                 n_max = percent*w_density,\n",
    "                 id=3\n",
    "                )\n",
    "      \n",
    "    else:\n",
    "        induced_trap = F.Trap(k_0=1.5e-7/(1.1e-10**2 * 6 * w_density),\n",
    "                      E_k=0.265,\n",
    "                      p_0=1e13,\n",
    "                      E_p=1.51,\n",
    "                      density = percent*w_density,\n",
    "                      materials = tungsten,\n",
    "                      id=3)\n",
    "\n",
    "    materials = [tungsten, cucrzr]\n",
    "    traps = [tungsten_trap_1, tungsten_trap_2, induced_trap,cucrzr_trap]\n",
    "    \n",
    "    #defining the mesh\n",
    "    vertices_material_1 = np.linspace(0, thickness_1, n)\n",
    "    vertices_material_2 = np.linspace(thickness_1, thickness_1 + thickness_2, n)\n",
    "    #using concatenate allows you to combine the two linspaces and have different interval sizes for each material\n",
    "    full_vertices = np.concatenate([vertices_material_1, vertices_material_2])\n",
    "    #defining the mesh using fenics IntervalMesh\n",
    "    mesh = IntervalMesh(len(full_vertices)-1, full_vertices.min(), full_vertices.max())\n",
    "    #used to indicate the surfaces for bc application\n",
    "    surface_markers = MeshFunction(\"size_t\", mesh, mesh.topology().dim()-1)\n",
    "\n",
    "    tol = 1e-14\n",
    "    surface_markers.set_all(0)\n",
    "    #defining each surface. CompiledSubDomain uses C++ syntax for the expressions\n",
    "    left_surface = CompiledSubDomain('near(x[0], 0, tol)', tol = tol)\n",
    "    right_surface = CompiledSubDomain('near(x[0], (thickness_1 + thickness_2), tol)', tol = tol, thickness_1 = thickness_1, thickness_2 = thickness_2)\n",
    "    interface = CompiledSubDomain('near(x[0], thickness_1, tol)', tol = tol, thickness_1 = thickness_1)\n",
    "    #the surface IDs\n",
    "    left_id = 1\n",
    "    right_id = 3\n",
    "    interface_id = 2\n",
    "\n",
    "    left_surface.mark(surface_markers, left_id)\n",
    "    right_surface.mark(surface_markers, right_id)\n",
    "    interface.mark(surface_markers, interface_id)\n",
    "    #definining the full material regions\n",
    "    volume_markers = MeshFunction(\"size_t\", mesh, mesh.topology().dim()-1)\n",
    "    volume_markers.set_all(0)\n",
    "\n",
    "    material_1_region = CompiledSubDomain('x[0] <= thickness_1 + tol', thickness_1 = thickness_1, tol = tol)\n",
    "    material_2_region = CompiledSubDomain('x[0] > thickness_1 - tol', thickness_1=thickness_1, tol = tol)\n",
    "\n",
    "    region_1_id = 1\n",
    "    region_2_id = 2\n",
    "\n",
    "    material_1_region.mark(volume_markers, region_1_id)\n",
    "    material_2_region.mark(volume_markers, region_2_id)\n",
    "\n",
    "    #defining the problem\n",
    "    model = F.Simulation()\n",
    "\n",
    "    model.mesh = F.Mesh(mesh = mesh, surface_markers = surface_markers, volume_markers = volume_markers)\n",
    "\n",
    "    model.materials = materials\n",
    "    model.traps = traps\n",
    "\n",
    "    model.T=F.HeatTransferProblem(transient=False)\n",
    "\n",
    "    boundary_conditions = [ F.ImplantationDirichlet(surfaces=left_id, phi=flux, R_p=mean_depth, D_0=1.5e-07, E_D=0.265),\n",
    "    F.DirichletBC(surfaces=right_id, value=0, field=0),\n",
    "    F.DirichletBC(surfaces=left_id, value=T1, field=\"T\"),\n",
    "    F.DirichletBC(surfaces=right_id, value=T3, field=\"T\"),\n",
    "    F.DirichletBC(surfaces=interface_id, value=T2, field=\"T\")\n",
    "    ]\n",
    "\n",
    "    model.boundary_conditions = boundary_conditions\n",
    "\n",
    "    model.dt = F.Stepsize(\n",
    "    initial_value=0.5,\n",
    "    stepsize_change_ratio=1.1,\n",
    "    )\n",
    "\n",
    "    model.settings = F.Settings(\n",
    "        absolute_tolerance=abs_tol, \n",
    "        relative_tolerance=rel_tol, \n",
    "        final_time=simulation_time, \n",
    "        chemical_pot=True, \n",
    "        traps_element_type=\"DG\"\n",
    "    )\n",
    "\n",
    "\n",
    "    total_mobile = F.TotalVolume(\"solute\", volume=1)\n",
    "    total_trap1 = F.TotalVolume(\"1\", volume=1)  \n",
    "    total_trap2 = F.TotalVolume(\"2\", volume=1)\n",
    "    total_trap3 = F.TotalVolume(\"3\", volume=1)\n",
    "    total_trap4 = F.TotalVolume(\"4\", volume=2)\n",
    "    total_retention_1 = F.TotalVolume(\"retention\", volume = 1)\n",
    "    total_retention_2 =  F.TotalVolume(\"retention\", volume = 2)\n",
    "    derived = [total_mobile, total_trap1, total_trap2, total_trap3, total_trap4, total_retention_1, total_retention_2]\n",
    "\n",
    "    text_exports = [\n",
    "    #F.TXTExport(field=\"solute\", filename=folder+\"/mobile_conc.txt\", times=[simulation_time - 1]),\n",
    "    #F.TXTExport(field=\"1\", filename=folder+\"/trap_1.txt\", times=[simulation_time - 1]),\n",
    "    #F.TXTExport(field=\"2\", filename=folder+\"/trap_2.txt\", times=[simulation_time - 1]),\n",
    "    #F.TXTExport(field=\"3\", filename=folder+\"/trap_3.txt\", times=[simulation_time - 1]),\n",
    "    #F.XDMFExport(field=\"retention\", label = \"retention\",filename=folder+\"/reten.xdmf\"),\n",
    "    F.TXTExport(field=\"T\", filename = folder +\"/temp.txt\", times = [1, simulation_time])]\n",
    "    \n",
    "  \n",
    "    exports = text_exports + [F.DerivedQuantities(derived, filename=folder+\"/derived_qs.csv\")]\n",
    "\n",
    "    model.exports = exports\n",
    "\n",
    "    model.initialise()\n",
    "    model.run()\n",
    "\n"
   ]
  },
  {
   "cell_type": "code",
   "execution_count": 6,
   "metadata": {},
   "outputs": [],
   "source": [
    "def simulation_w_only(flux, simulation_time, thickness_1, n, T1, T2, mean_depth, folder, rel_tol, abs_tol, vary, percent):\n",
    "    tungsten = F.Material(\n",
    "        id=1, D_0=1.5e-7, E_D=0.265, S_0=2.7e24, E_S=1.14,\n",
    "        borders=[0, thickness_1], thermal_cond=173\n",
    "            )\n",
    "\n",
    "    tungsten_trap_1 = F.Trap(\n",
    "        k_0 = 1.5e-7/((1.1e-10)**2 * 6 * w_density),\n",
    "        E_k= 0.265, \n",
    "        p_0=1.2397e13,\n",
    "        E_p=0.83,\n",
    "        density = sp.Piecewise((6.3e28*0.00118, F.x < thickness_1), (0,True)),\n",
    "        materials = [tungsten]\n",
    "        )\n",
    "\n",
    "    tungsten_trap_2 = F.Trap(\n",
    "        k_0 = 1.5e-7/((1.1e-10)**2 * 6 * w_density),\n",
    "        E_k= 0.265, \n",
    "        p_0=1.2397e13,    E_p=0.97,\n",
    "        density = sp.Piecewise((6.3e28*0.000722, F.x < thickness_1),(0,True)),\n",
    "        materials = [tungsten]\n",
    "        )\n",
    "    if vary:\n",
    "        induced_trap = F.NeutronInducedTrap(\n",
    "                k_0 = 1.5e-7/((1.1e-10**2) * 6 * w_density),\n",
    "                E_k= 0.265, \n",
    "                 p_0=1.2397e13,\n",
    "                 E_p = 1.51,\n",
    "                 phi = 6.3e-8,\n",
    "                 K = 3.858e27,\n",
    "                 A_0 = 0,\n",
    "                 E_A = 1,\n",
    "                 materials = [tungsten],\n",
    "                 n_max = percent*w_density\n",
    "                )\n",
    "    else:\n",
    "        induced_trap = F.Trap(k_0=1.5e-7/(1.1e-10**2 * 6 * w_density),\n",
    "                      E_k=0.265,\n",
    "                      p_0=1e13,\n",
    "                      E_p=1.51,\n",
    "                      density = percent*w_density,\n",
    "                      materials = tungsten)\n",
    "    materials = [tungsten]\n",
    "    traps = [tungsten_trap_1, tungsten_trap_2, induced_trap]\n",
    "    \n",
    "    \n",
    "    #defining the mesh\n",
    "    vertices_material_1 = np.linspace(0, thickness_1, n)\n",
    "   \n",
    "    #defining the problem\n",
    "    model = F.Simulation()\n",
    "\n",
    "    model.mesh = F.MeshFromVertices(vertices_material_1)\n",
    "    model.materials = materials\n",
    "    model.traps = traps\n",
    "\n",
    "    model.T=F.HeatTransferProblem(transient=False)\n",
    "\n",
    "    boundary_conditions = [ F.ImplantationDirichlet(surfaces=1, phi=flux, R_p=mean_depth, D_0=1.5e-07, E_D=0.265),\n",
    "    F.DirichletBC(surfaces=2, value=0, field=0),\n",
    "    F.DirichletBC(surfaces=1, value=T1, field=\"T\"),\n",
    "    F.DirichletBC(surfaces=2, value=T2, field=\"T\"),\n",
    "    ]\n",
    "\n",
    "    model.boundary_conditions = boundary_conditions\n",
    "\n",
    "    model.dt = F.Stepsize(\n",
    "    initial_value=0.5,\n",
    "    stepsize_change_ratio=1.1,\n",
    "    )\n",
    "\n",
    "    model.settings = F.Settings(\n",
    "        absolute_tolerance=abs_tol, \n",
    "        relative_tolerance=rel_tol, \n",
    "        final_time=simulation_time, \n",
    "        chemical_pot=True, \n",
    "        traps_element_type=\"DG\"\n",
    "    )\n",
    "\n",
    "\n",
    "    total_mobile = F.TotalVolume(\"solute\", volume=1)\n",
    "    total_trap1 = F.TotalVolume(\"1\", volume=1)  \n",
    "    total_trap2 = F.TotalVolume(\"2\", volume=1)\n",
    "    total_trap3 = F.TotalVolume(\"3\", volume=1)\n",
    "    derived = [total_mobile, total_trap1, total_trap2, total_trap3]\n",
    "\n",
    "    text_exports = [\n",
    "    #F.TXTExport(field=\"solute\", filename=folder+\"/mobile_conc.txt\", times=[simulation_time - 1]),\n",
    "    #F.TXTExport(field=\"1\", filename=folder+\"/trap_1.txt\", times=[simulation_time - 1]),\n",
    "    #F.TXTExport(field=\"2\", filename=folder+\"/trap_2.txt\", times=[simulation_time - 1]),\n",
    "    #F.TXTExport(field=\"3\", filename=folder+\"/trap_3.txt\", times=[simulation_time - 1]),\n",
    "    #F.TXTExport(field=\"retention\", filename=folder+\"/reten.txt\", times=[simulation_time - 1]),\n",
    "    F.TXTExport(field=\"T\", filename = folder +\"/temp.txt\", times = [1, simulation_time])]\n",
    "    \n",
    "    exports = text_exports + [F.DerivedQuantities(derived, filename=folder+\"/derived_qs.csv\")]\n",
    "\n",
    "    model.exports = exports\n",
    "\n",
    "    model.initialise()\n",
    "    model.run()"
   ]
  },
  {
   "cell_type": "markdown",
   "metadata": {},
   "source": [
    "Modelling 0-1% Damage for 30 days"
   ]
  },
  {
   "cell_type": "code",
   "execution_count": 29,
   "metadata": {},
   "outputs": [],
   "source": [
    "damage_trap_1perc = F.NeutronInducedTrap(\n",
    "    k_0 = 1.5e-7/((1.1e-10**2) * 6 * w_density),\n",
    "    E_k= 0.265, \n",
    "    p_0=1.2397e13,\n",
    "    E_p = 1.51,\n",
    "    phi = 6.3e-8,\n",
    "    K = 3.858e27,\n",
    "    A_0 = 0,\n",
    "    E_A = 1,\n",
    "    materials = [tungsten],\n",
    "    n_max = 0.01*w_density\n",
    ")\n"
   ]
  },
  {
   "cell_type": "code",
   "execution_count": 36,
   "metadata": {},
   "outputs": [
    {
     "name": "stdout",
     "output_type": "stream",
     "text": [
      "Defining variational problem heat transfers\n",
      "Solving stationary heat equation\n",
      "Defining initial values\n",
      "Defining variational problem\n",
      "Defining source terms\n",
      "Defining boundary conditions\n",
      "Time stepping...\n"
     ]
    },
    {
     "name": "stderr",
     "output_type": "stream",
     "text": [
      "/home/celyn/.local/lib/python3.10/site-packages/festim/exports/derived_quantities/derived_quantities.py:52: DeprecationWarning: The derived_quantities attribute will be deprecated in a future release, please use festim.DerivedQuantities as a list instead\n",
      "  warnings.warn(\n",
      "/home/celyn/.local/lib/python3.10/site-packages/festim/generic_simulation.py:334: UserWarning: To ensure that TXTExport exports data at the desired times TXTExport.times are added to milestones\n",
      "  warnings.warn(msg)\n"
     ]
    },
    {
     "name": "stdout",
     "output_type": "stream",
     "text": [
      "100.0 %        4.0e+07 s    Ellapsed time so far: 222.7 s\n"
     ]
    }
   ],
   "source": [
    "#section 1\n",
    "simulation_with_interface(1e23, \n",
    "              4e7, \n",
    "              3e-3, \n",
    "              11e-3,   \n",
    "               10000,\n",
    "               600+273.15, 500+273.15, 300+273.15,\n",
    "               10e-9,\n",
    "               \"div_sec_1_1perc_start_full\",\n",
    "               1e-8,\n",
    "               1e12,\n",
    "               True,\n",
    "               0.01)"
   ]
  },
  {
   "cell_type": "code",
   "execution_count": 9,
   "metadata": {},
   "outputs": [
    {
     "name": "stdout",
     "output_type": "stream",
     "text": [
      "Defining variational problem heat transfers\n",
      "Solving stationary heat equation\n",
      "Defining initial values\n",
      "Defining variational problem\n",
      "Defining source terms\n",
      "Defining boundary conditions\n",
      "Time stepping...\n"
     ]
    },
    {
     "name": "stderr",
     "output_type": "stream",
     "text": [
      "/home/celyn/.local/lib/python3.10/site-packages/festim/exports/derived_quantities/derived_quantities.py:52: DeprecationWarning: The derived_quantities attribute will be deprecated in a future release, please use festim.DerivedQuantities as a list instead\n",
      "  warnings.warn(\n",
      "/home/celyn/.local/lib/python3.10/site-packages/festim/generic_simulation.py:334: UserWarning: To ensure that TXTExport exports data at the desired times TXTExport.times are added to milestones\n",
      "  warnings.warn(msg)\n"
     ]
    },
    {
     "name": "stdout",
     "output_type": "stream",
     "text": [
      "100.0 %        4.0e+07 s    Ellapsed time so far: 658.9 s\n"
     ]
    }
   ],
   "source": [
    "#section 2\n",
    "simulation_with_interface(1e24, \n",
    "              4e7, \n",
    "              10e-3, \n",
    "              2.5e-3, \n",
    "               10000,\n",
    "               1300+273.16, 400+273.16, 200+273.16,\n",
    "               10e-9,\n",
    "               \"div_sec_2_1perc_start_full\",\n",
    "               1e-8,\n",
    "               1e12,\n",
    "              True,\n",
    "               0.01)\n"
   ]
  },
  {
   "cell_type": "code",
   "execution_count": 18,
   "metadata": {},
   "outputs": [
    {
     "name": "stdout",
     "output_type": "stream",
     "text": [
      "Defining variational problem heat transfers\n",
      "Solving stationary heat equation\n",
      "Defining initial values\n",
      "Defining variational problem\n",
      "Defining source terms\n",
      "Defining boundary conditions\n",
      "Time stepping...\n"
     ]
    },
    {
     "name": "stderr",
     "output_type": "stream",
     "text": [
      "/home/celyn/.local/lib/python3.10/site-packages/festim/exports/derived_quantities/derived_quantities.py:52: DeprecationWarning: The derived_quantities attribute will be deprecated in a future release, please use festim.DerivedQuantities as a list instead\n",
      "  warnings.warn(\n",
      "/home/celyn/.local/lib/python3.10/site-packages/festim/generic_simulation.py:334: UserWarning: To ensure that TXTExport exports data at the desired times TXTExport.times are added to milestones\n",
      "  warnings.warn(msg)\n"
     ]
    },
    {
     "name": "stdout",
     "output_type": "stream",
     "text": [
      "100.0 %        4.0e+07 s    Ellapsed time so far: 170.0 s\n"
     ]
    }
   ],
   "source": [
    "#ofw\n",
    "simulation_with_interface(1e21, \n",
    "              4e7, \n",
    "              2e-3, \n",
    "              2.5e-3,  \n",
    "              10000,\n",
    "              706+273.16, 680+273.16, 620+273.16,\n",
    "              18e-9,\n",
    "              \"ofw_1perc_start_full\",\n",
    "              1e-8,\n",
    "              1e12,\n",
    "              True,\n",
    "              0.01)\n"
   ]
  },
  {
   "cell_type": "code",
   "execution_count": null,
   "metadata": {},
   "outputs": [],
   "source": []
  },
  {
   "cell_type": "code",
   "execution_count": 12,
   "metadata": {},
   "outputs": [
    {
     "name": "stdout",
     "output_type": "stream",
     "text": [
      "Defining variational problem heat transfers\n",
      "Solving stationary heat equation\n",
      "Defining initial values\n",
      "Defining variational problem\n",
      "Defining source terms\n",
      "Defining boundary conditions\n",
      "Time stepping...\n"
     ]
    },
    {
     "name": "stderr",
     "output_type": "stream",
     "text": [
      "/home/celyn/.local/lib/python3.10/site-packages/festim/exports/derived_quantities/derived_quantities.py:52: DeprecationWarning: The derived_quantities attribute will be deprecated in a future release, please use festim.DerivedQuantities as a list instead\n",
      "  warnings.warn(\n"
     ]
    },
    {
     "name": "stdout",
     "output_type": "stream",
     "text": [
      "100.0 %        4.0e+07 s    Ellapsed time so far: 71.0 s\n"
     ]
    }
   ],
   "source": [
    "#ifw\n",
    "simulation_with_interface(0, \n",
    "              4e7, \n",
    "              9e-3, \n",
    "              3e-3,  \n",
    "               10000,\n",
    "               400+273.16, 300+273.16, 245+273.16,\n",
    "               15e-9,\n",
    "               \"ifw_1perc_start_full\",\n",
    "               1e-8,\n",
    "               1e12,\n",
    "                True,\n",
    "               0.01)\n"
   ]
  },
  {
   "cell_type": "code",
   "execution_count": 13,
   "metadata": {},
   "outputs": [
    {
     "name": "stdout",
     "output_type": "stream",
     "text": [
      "Defining variational problem heat transfers\n",
      "Solving stationary heat equation\n",
      "Defining initial values\n",
      "Defining variational problem\n",
      "Defining source terms\n",
      "Defining boundary conditions\n",
      "Time stepping...\n"
     ]
    },
    {
     "name": "stderr",
     "output_type": "stream",
     "text": [
      "/home/celyn/.local/lib/python3.10/site-packages/festim/exports/derived_quantities/derived_quantities.py:52: DeprecationWarning: The derived_quantities attribute will be deprecated in a future release, please use festim.DerivedQuantities as a list instead\n",
      "  warnings.warn(\n"
     ]
    },
    {
     "name": "stdout",
     "output_type": "stream",
     "text": [
      "100.0 %        4.0e+07 s    Ellapsed time so far: 103.0 s\n"
     ]
    }
   ],
   "source": [
    "#limiters\n",
    "simulation_w_only(2e22, \n",
    "              4e7, \n",
    "              6e-3,  \n",
    "               10000,\n",
    "               750+273.16, 400+273.16,\n",
    "               3e-9,\n",
    "               \"limiter_1perc_start_full\",\n",
    "               1e-8,\n",
    "               1e12,\n",
    "                True,\n",
    "               0.01)\n"
   ]
  },
  {
   "cell_type": "code",
   "execution_count": 37,
   "metadata": {},
   "outputs": [
    {
     "data": {
      "image/png": "[encoded data removed]",
      "text/plain": [
       "<Figure size 640x480 with 1 Axes>"
      ]
     },
     "metadata": {},
     "output_type": "display_data"
    },
    {
     "data": {
      "image/png": "[encoded data removed]",
      "text/plain": [
       "<Figure size 640x480 with 1 Axes>"
      ]
     },
     "metadata": {},
     "output_type": "display_data"
    },
    {
     "data": {
      "image/png": "[encoded data removed]",
      "text/plain": [
       "<Figure size 640x480 with 1 Axes>"
      ]
     },
     "metadata": {},
     "output_type": "display_data"
    }
   ],
   "source": [
    "#this is just trying to work out what field is best to use to calculate retention- exporting the retention field for each volume vs summing each individual trap contribution plus the mobile hydrogen gives slightly different results\n",
    "\n",
    "folder = \"div_sec_1_1perc_start_full\"\n",
    "\n",
    "csv_data = np.genfromtxt(fname = folder+\"/derived_qs.csv\", dtype = 'float', delimiter = ',', skip_header = True)\n",
    "\n",
    "retention = (np.array(csv_data[:,1]/Avogadro/2*3)\n",
    "    +np.array(csv_data[:,2]/Avogadro/2*3)\n",
    "    +np.array(csv_data[:,3]/Avogadro/2*3)\n",
    "    +np.array(csv_data[:,4]/Avogadro/2*3)\n",
    "    +np.array(csv_data[:,5]/Avogadro/2*3)\n",
    "    )\n",
    "time_days = csv_data[:,0]/24/3600\n",
    "plt.plot(time_days, retention[:])\n",
    "plt.xlabel(\"time (days)\")\n",
    "plt.ylabel(\"Retention (g)\")\n",
    "plt.show()\n",
    "\n",
    "#trap_1_data = np.genfromtxt(folder+\"/trap_1.txt\", dtype = 'float', delimiter = ',', skip_header=True)\n",
    "#trap_2_data = np.genfromtxt(folder+\"/trap_2.txt\", dtype = 'float', delimiter = ',', skip_header=True)\n",
    "#trap_3_data = np.genfromtxt(folder+\"/trap_3.txt\", dtype = 'float', delimiter = ',', skip_header=True)\n",
    "#trap_4_data = np.genfromtxt(folder+\"/trap_4.txt\", dtype = 'float', delimiter = ',', skip_header=True)\n",
    "#mobile_data = np.genfromtxt(folder+\"/mobile_conc.txt\", dtype = 'float', delimiter = ',', skip_header=True)\n",
    "#reten_data = np.genfromtxt(folder+\"/reten.txt\", dtype = 'float', delimiter = ',', skip_header=True)\n",
    "temp_data = np.genfromtxt(folder+\"/temp.txt\", dtype = 'float', delimiter = ',', skip_header=True)\n",
    "\"\"\"\n",
    "plt.plot(trap_1_data[:,0], np.log(trap_1_data[:,1]), label = \"Trap 1\")\n",
    "plt.plot(trap_2_data[:,0], np.log(trap_2_data[:,1]), label = \"Trap 2\")\n",
    "plt.plot(trap_3_data[:,0], np.log(trap_3_data[:,1]), label = \"Trap 3\")\n",
    "plt.plot(trap_4_data[:,0], np.log(trap_4_data[:,1]), label = \"Damage Trap\")\n",
    "plt.xlabel(\"Position (m)\")\n",
    "plt.ylabel(\"Log trap concentration\")\n",
    "plt.legend()\n",
    "plt.show()\n",
    "\n",
    "plt.plot(mobile_data[:,0], mobile_data[:,1])\n",
    "plt.title(\"mobile conc\")\n",
    "plt.xlabel(\"Position (m)\")\n",
    "plt.ylabel(\"Mobile Concentration\")\n",
    "plt.show()\n",
    "\n",
    "plt.plot(reten_data[:,0], reten_data[:,1])\n",
    "plt.ylabel(\"Retention\")\n",
    "plt.xlabel(\"Position (m)\")\n",
    "plt.title('retention data')\n",
    "plt.show()\n",
    "\"\"\"\n",
    "plt.plot(temp_data[:,0], temp_data[:,1], label = \"beginning\")\n",
    "plt.plot(temp_data[:,0], temp_data[:,2], label = \"end\")\n",
    "plt.legend()\n",
    "plt.show()\n",
    "sum = csv_data[:,6]/Avogadro/2*3 + csv_data[:,7]/Avogadro/2*3\n",
    "plt.plot(csv_data[:,0]/24/3600, csv_data[:,6]/Avogadro/2*3, label = 'retention field volume 1')\n",
    "plt.plot(csv_data[:,0]/24/3600, csv_data[:,7]/Avogadro/2*3, label = 'retention field volume 2')\n",
    "plt.plot(csv_data[:,0]/24/3600, sum, label = \"summed\")\n",
    "plt.plot(csv_data[:,0]/24/3600, retention[:], label = 'calculated')\n",
    "#plt.plot(csv_data[:,0]/24/3600, csv_data[:,10]/Avogadro/2*3, label = 'excel ind sum')\n",
    "#plt.plot(csv_data[:,0]/24/3600, csv_data[:,11]/Avogadro/2*3, label = 'excel retention sum')\n",
    "plt.ylabel(\"Retention\")\n",
    "plt.xlabel(\"Position (m)\")\n",
    "plt.title('retention data')\n",
    "plt.legend()\n",
    "plt.show()"
   ]
  },
  {
   "cell_type": "code",
   "execution_count": null,
   "metadata": {},
   "outputs": [],
   "source": []
  },
  {
   "cell_type": "code",
   "execution_count": 18,
   "metadata": {},
   "outputs": [
    {
     "name": "stdout",
     "output_type": "stream",
     "text": [
      "168\n",
      "417\n",
      "168\n",
      "168\n",
      "168\n"
     ]
    },
    {
     "data": {
      "image/png": "[encoded data removed]",
      "text/plain": [
       "<Figure size 640x480 with 1 Axes>"
      ]
     },
     "metadata": {},
     "output_type": "display_data"
    }
   ],
   "source": [
    "from scipy.interpolate import interp1d\n",
    "\n",
    "common_time = np.linspace(0, 4e7, 160)\n",
    "labels = [\"Divertor Section 1\", \"Divertor Section 2\", \"OFW\", \"IFW\", \"Limiters\"]\n",
    "folders = [\"div_sec_1_1perc_start_full\", \"div_sec_2_1perc_start_full\", \"ofw_1perc_start_full\", \"ifw_1perc_start_full\", \"limiter_1perc_start_full\"]\n",
    "section_areas = [233.93, 124.48, 331, 120, 102.6]\n",
    "\n",
    "plt.figure()\n",
    "full_data = np.zeros(160)\n",
    "for i in range(len(folders)):\n",
    "    if folders[i] != \"limiter_1perc_start_full\":\n",
    "        csv_data = np.genfromtxt(fname = folders[i]+\"/derived_qs.csv\", dtype = 'float', delimiter = ',', skip_header = True)\n",
    "        print(len(csv_data))\n",
    "        retention = (np.array(csv_data[:,1])\n",
    "          +np.array(csv_data[:,2])\n",
    "          +np.array(csv_data[:,3])\n",
    "          +np.array(csv_data[:,4])\n",
    "          +np.array(csv_data[:,5])\n",
    "          )\n",
    "    else:\n",
    "        csv_data = np.genfromtxt(fname = folders[i]+\"/derived_qs.csv\", dtype = 'float', delimiter = ',', skip_header = True)\n",
    "        print(len(csv_data))\n",
    "        retention = (np.array(csv_data[:,1])\n",
    "          +np.array(csv_data[:,2])\n",
    "          +np.array(csv_data[:,3])\n",
    "          +np.array(csv_data[:,4])\n",
    "          )       \n",
    "    \n",
    "    retention = retention*section_areas[i]\n",
    "    reten_interp = interp1d(csv_data[:,0], retention, kind = 'linear', fill_value = 'extrapolate')\n",
    "    reten_temp =reten_interp(common_time)\n",
    "    full_data=full_data + reten_temp\n",
    "    plt.plot(csv_data[:,0]/24/3600, retention[:]/Avogadro/2*3, label = labels[i])\n",
    "\n",
    "plt.plot(common_time/24/3600, full_data/Avogadro/2*3, label = \"Sum\")\n",
    "plt.xlabel(\"Time (days)\")\n",
    "plt.ylabel(\"Integrated Retention (g)\")\n",
    "plt.legend()\n",
    "plt.title(\"Damage 0-30 percent in 30 days\")\n",
    "\n",
    "plt.show()\n",
    "\n",
    "    "
   ]
  },
  {
   "cell_type": "markdown",
   "metadata": {},
   "source": [
    "Modelling 1% trap from beginning"
   ]
  },
  {
   "cell_type": "code",
   "execution_count": null,
   "metadata": {},
   "outputs": [],
   "source": [
    "induced_trap_1perc = F.Trap(k_0=1.5e-7/(1.1e-10**2 * 6 * w_density),\n",
    "                      E_k=0.265,\n",
    "                      p_0=1e13,\n",
    "                      E_p=1.51,\n",
    "                      density = 1e-2*w_density,\n",
    "                      materials = tungsten)"
   ]
  },
  {
   "cell_type": "code",
   "execution_count": null,
   "metadata": {},
   "outputs": [],
   "source": [
    "#section 1\n",
    "simulation_with_interface(1e23, \n",
    "              500*3600*24, \n",
    "              3e-3, \n",
    "              11e-3,  \n",
    "               5000,\n",
    "               600+273.15, 500+273.15, 300+273.15,\n",
    "               10e-9,\n",
    "               \"div_sec_1_1perc_full\",\n",
    "               1e-10,\n",
    "               1e12,\n",
    "               False,\n",
    "               0.01)"
   ]
  },
  {
   "cell_type": "code",
   "execution_count": null,
   "metadata": {},
   "outputs": [],
   "source": [
    "#section 2\n",
    "simulation_with_interface(1e24, \n",
    "              500*3600*24, \n",
    "              10e-3, \n",
    "              2.5e-3, \n",
    "               2500,\n",
    "               1300+273.16, 400+273.16, 200+273.16,\n",
    "               10e-9,\n",
    "               \"div_sec_2_1perc_full\",\n",
    "               1e-10,\n",
    "               1e14,\n",
    "               False,\n",
    "               0.01)"
   ]
  },
  {
   "cell_type": "code",
   "execution_count": null,
   "metadata": {},
   "outputs": [],
   "source": [
    "#ofw\n",
    "simulation_with_interface(1e21, \n",
    "              500*3600*24, \n",
    "              2e-3, \n",
    "              2.5e-3,  \n",
    "              5000,\n",
    "              706+273.16, 680+273.16, 620+273.16,\n",
    "              18e-9,\n",
    "              \"ofw_1perc_full\",\n",
    "              1e-10,\n",
    "              1e10,\n",
    "              False,\n",
    "              0.01)"
   ]
  },
  {
   "cell_type": "code",
   "execution_count": null,
   "metadata": {},
   "outputs": [],
   "source": [
    "#ifw\n",
    "simulation_with_interface(0, \n",
    "              500*3600*24, \n",
    "              9e-3, \n",
    "              3e-3, \n",
    "               5000,\n",
    "               400+273.16, 300+273.16, 245+273.16,\n",
    "               15e-9,\n",
    "               \"ifw_1perc_full\",\n",
    "               1e-10,\n",
    "               1e10,\n",
    "               False,\n",
    "               0.01)\n"
   ]
  },
  {
   "cell_type": "code",
   "execution_count": null,
   "metadata": {},
   "outputs": [],
   "source": [
    "#limiters\n",
    "simulation_w_only(2e22, \n",
    "              500*3600*24, \n",
    "              6e-3,  \n",
    "               5000,\n",
    "               750+273.16, 400+273.16,\n",
    "               3e-9,\n",
    "               \"limiter_1perc_full\",\n",
    "               1e-8,\n",
    "               1e12,\n",
    "               False,\n",
    "               0.01)"
   ]
  },
  {
   "cell_type": "code",
   "execution_count": null,
   "metadata": {},
   "outputs": [],
   "source": [
    "from scipy.interpolate import interp1d\n",
    "\n",
    "common_time = np.linspace(0, 500*3600*24, 160)\n",
    "labels = [\"Divertor Section 1\", \"Divertor Section 2\", \"OFW\", \"IFW\", \"Limiters\"]\n",
    "folders = [\"div_sec_1_1perc_full\", \"div_sec_2_1perc_full\", \"ofw_1perc_full\", \"ifw_1perc_full\", \"limiter_1perc_full\"]\n",
    "section_areas = [233.93, 124.48, 331, 120, 102.6]\n",
    "\n",
    "plt.figure()\n",
    "full_data = np.zeros(160)\n",
    "for i in range(len(folders)):\n",
    "    if folders[i] != \"limiter_1perc_full\":\n",
    "        csv_data = np.genfromtxt(fname = folders[i]+\"/derived_qs.csv\", dtype = 'float', delimiter = ',', skip_header = True)\n",
    "        print(len(csv_data))\n",
    "        retention = (np.array(csv_data[:,1])\n",
    "          +np.array(csv_data[:,2])\n",
    "          +np.array(csv_data[:,3])\n",
    "          +np.array(csv_data[:,4])\n",
    "          +np.array(csv_data[:,5])\n",
    "          )\n",
    "    else:\n",
    "        csv_data = np.genfromtxt(fname = folders[i]+\"/derived_qs.csv\", dtype = 'float', delimiter = ',', skip_header = True)\n",
    "        print(len(csv_data))\n",
    "        retention = (np.array(csv_data[:,1])\n",
    "          +np.array(csv_data[:,2])\n",
    "          +np.array(csv_data[:,3])\n",
    "          +np.array(csv_data[:,4])\n",
    "          )       \n",
    "    \n",
    "    retention = retention*section_areas[i]\n",
    "    reten_interp = interp1d(csv_data[:,0], retention, kind = 'linear', fill_value = 'extrapolate')\n",
    "    reten_temp =reten_interp(common_time)\n",
    "    full_data=full_data + reten_temp\n",
    "    plt.plot(csv_data[:,0]/24/3600, retention[:]/Avogadro/2*3, label = labels[i])\n",
    "\n",
    "plt.plot(common_time/24/3600, full_data/Avogadro/2*3, label = \"Sum\")\n",
    "plt.xlabel(\"Time (days)\")\n",
    "plt.ylabel(\"Integrated Retention (g)\")\n",
    "plt.title(\"Damage 1 percent from start, ignoring RR\")\n",
    "plt.legend()\n",
    "plt.axvline(70, color = \"blue\", linestyle = \"dashed\")\n",
    "plt.axvline(90, color = \"red\", linestyle = \"dashed\")"
   ]
  },
  {
   "cell_type": "markdown",
   "metadata": {},
   "source": [
    "Damage 2% from start"
   ]
  },
  {
   "cell_type": "code",
   "execution_count": null,
   "metadata": {},
   "outputs": [],
   "source": [
    "induced_trap_2perc = F.Trap(k_0=1.5e-7/(1.1e-10**2 * 6 * w_density),\n",
    "                      E_k=0.265,\n",
    "                      p_0=1e13,\n",
    "                      E_p=1.51,\n",
    "                      density = 2e-2*w_density,\n",
    "                      materials = tungsten)"
   ]
  },
  {
   "cell_type": "code",
   "execution_count": null,
   "metadata": {},
   "outputs": [],
   "source": [
    "#section 1\n",
    "simulation_with_interface(1e23, \n",
    "              500*3600*24, \n",
    "              3e-3, \n",
    "              11e-3,   \n",
    "               5000,\n",
    "               600+273.15, 500+273.15, 300+273.15,\n",
    "               10e-9,\n",
    "               \"div_sec_1_2perc_full\",\n",
    "               1e-8,\n",
    "               1e12,\n",
    "               False,\n",
    "               0.02)"
   ]
  },
  {
   "cell_type": "code",
   "execution_count": null,
   "metadata": {},
   "outputs": [],
   "source": [
    "#section 2\n",
    "simulation_with_interface(1e24, \n",
    "              500*3600*24, \n",
    "              10e-3, \n",
    "              2.5e-3, \n",
    "               2500,\n",
    "               1300+273.16, 400+273.16, 200+273.16,\n",
    "               10e-9,\n",
    "               \"div_sec_2_2perc_full\",\n",
    "               1e-6,\n",
    "               1e14,\n",
    "               False,\n",
    "               0.02)"
   ]
  },
  {
   "cell_type": "code",
   "execution_count": null,
   "metadata": {},
   "outputs": [],
   "source": [
    "#ofw\n",
    "simulation_with_interface(1e21, \n",
    "              500*3600*24, \n",
    "              2e-3, \n",
    "              2.5e-3, \n",
    "              5000,\n",
    "              706+273.16, 680+273.16, 620+273.16,\n",
    "              18e-9,\n",
    "              \"ofw_2perc_full\",\n",
    "              1e-8,\n",
    "              1e12,\n",
    "              False,\n",
    "              0.02)"
   ]
  },
  {
   "cell_type": "code",
   "execution_count": null,
   "metadata": {},
   "outputs": [],
   "source": [
    "#ifw\n",
    "simulation_with_interface(0, \n",
    "              500*3600*24, \n",
    "              9e-3, \n",
    "              3e-3, \n",
    "               5000,\n",
    "               400+273.16, 300+273.16, 245+273.16,\n",
    "               15e-9,\n",
    "               \"ifw_2perc_full\",\n",
    "               1e-8,\n",
    "               1e12,\n",
    "               False,\n",
    "               0.02)\n"
   ]
  },
  {
   "cell_type": "code",
   "execution_count": null,
   "metadata": {},
   "outputs": [],
   "source": [
    "#limiters\n",
    "simulation_w_only(2e22, \n",
    "              500*3600*24, \n",
    "              6e-3,  \n",
    "               5000,\n",
    "               750+273.16, 400+273.16,\n",
    "               3e-9,\n",
    "               \"limiter_2perc_full\",\n",
    "               1e-8,\n",
    "               1e12,\n",
    "               False,\n",
    "               0.02)"
   ]
  },
  {
   "cell_type": "code",
   "execution_count": 7,
   "metadata": {},
   "outputs": [
    {
     "name": "stdout",
     "output_type": "stream",
     "text": [
      "230\n",
      "3669\n",
      "169\n",
      "169\n",
      "169\n"
     ]
    },
    {
     "name": "stderr",
     "output_type": "stream",
     "text": [
      "/home/celyn/.local/lib/python3.10/site-packages/IPython/core/pylabtools.py:77: DeprecationWarning: backend2gui is deprecated since IPython 8.24, backends are managed in matplotlib and can be externally registered.\n",
      "  warnings.warn(\n",
      "/home/celyn/.local/lib/python3.10/site-packages/IPython/core/pylabtools.py:77: DeprecationWarning: backend2gui is deprecated since IPython 8.24, backends are managed in matplotlib and can be externally registered.\n",
      "  warnings.warn(\n"
     ]
    },
    {
     "data": {
      "text/plain": [
       "<matplotlib.legend.Legend at 0x7fa1b454cdc0>"
      ]
     },
     "execution_count": 7,
     "metadata": {},
     "output_type": "execute_result"
    },
    {
     "data": {
      "image/png": "[encoded data removed]",
      "text/plain": [
       "<Figure size 640x480 with 1 Axes>"
      ]
     },
     "metadata": {},
     "output_type": "display_data"
    }
   ],
   "source": [
    "from scipy.interpolate import interp1d\n",
    "\n",
    "common_time = np.linspace(0, 500*3600*24, 160)\n",
    "labels = [\"Divertor Section 1\", \"Divertor Section 2\", \"OFW\", \"IFW\", \"Limiters\"]\n",
    "folders = [\"div_sec_1_2perc_full\", \"div_sec_2_2perc_full\", \"ofw_2perc_full\", \"ifw_2perc_full\", \"limiter_2perc_full\"]\n",
    "section_areas = [233.93, 124.48, 331, 120, 102.6]\n",
    "\n",
    "plt.figure()\n",
    "full_data = np.zeros(160)\n",
    "for i in range(len(folders)):\n",
    "    if folders[i] != \"limiter_2perc_full\":\n",
    "        csv_data = np.genfromtxt(fname = folders[i]+\"/derived_qs.csv\", dtype = 'float', delimiter = ',', skip_header = True)\n",
    "        print(len(csv_data))\n",
    "        retention = (np.array(csv_data[:,1])\n",
    "          +np.array(csv_data[:,2])\n",
    "          +np.array(csv_data[:,3])\n",
    "          +np.array(csv_data[:,4])\n",
    "          +np.array(csv_data[:,5])\n",
    "          )\n",
    "    else:\n",
    "        csv_data = np.genfromtxt(fname = folders[i]+\"/derived_qs.csv\", dtype = 'float', delimiter = ',', skip_header = True)\n",
    "        print(len(csv_data))\n",
    "        retention = (np.array(csv_data[:,1])\n",
    "          +np.array(csv_data[:,2])\n",
    "          +np.array(csv_data[:,3])\n",
    "          +np.array(csv_data[:,4])\n",
    "          )       \n",
    "    \n",
    "    retention = retention*section_areas[i]\n",
    "    reten_interp = interp1d(csv_data[:,0], retention, kind = 'linear', fill_value = 'extrapolate')\n",
    "    reten_temp =reten_interp(common_time)\n",
    "    full_data=full_data + reten_temp\n",
    "    plt.plot(csv_data[:,0]/24/3600, retention[:]/Avogadro/2*3, label = labels[i])\n",
    "\n",
    "plt.plot(common_time/24/3600, full_data/Avogadro/2*3, label = \"Sum\")\n",
    "plt.xlabel(\"Time (days)\")\n",
    "plt.ylabel(\"Integrated Retention (g)\")\n",
    "plt.title(\"Damage 2 percent from start, full flux\")\n",
    "plt.axvline(166, color = \"red\", linestyle = \"dashed\")\n",
    "plt.axvline(133, color = \"blue\", linestyle = \"dashed\")\n",
    "plt.legend()\n",
    "\n",
    "    "
   ]
  },
  {
   "cell_type": "code",
   "execution_count": null,
   "metadata": {},
   "outputs": [],
   "source": [
    "\n"
   ]
  },
  {
   "cell_type": "code",
   "execution_count": null,
   "metadata": {},
   "outputs": [],
   "source": []
  }
 ],
 "metadata": {
  "kernelspec": {
   "display_name": "Python 3",
   "language": "python",
   "name": "python3"
  },
  "language_info": {
   "codemirror_mode": {
    "name": "ipython",
    "version": 3
   },
   "file_extension": ".py",
   "mimetype": "text/x-python",
   "name": "python",
   "nbconvert_exporter": "python",
   "pygments_lexer": "ipython3",
   "version": "3.10.12"
  }
 },
 "nbformat": 4,
 "nbformat_minor": 2
}
